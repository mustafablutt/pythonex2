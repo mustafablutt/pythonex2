{
 "cells": [
  {
   "cell_type": "markdown",
   "id": "226f057d",
   "metadata": {},
   "source": [
    "# List 4.1\n",
    "### a-"
   ]
  },
  {
   "cell_type": "code",
   "execution_count": 16,
   "id": "4cce937a",
   "metadata": {},
   "outputs": [
    {
     "name": "stdout",
     "output_type": "stream",
     "text": [
      "1\n",
      "2\n",
      "3\n"
     ]
    }
   ],
   "source": [
    "myList= [1,2,3]\n",
    "def yazdır(list):\n",
    "    for i in list:\n",
    "        print(i)\n",
    "\n",
    "yazdır(myList)"
   ]
  },
  {
   "cell_type": "markdown",
   "id": "30ec659a",
   "metadata": {},
   "source": [
    "### b-"
   ]
  },
  {
   "cell_type": "code",
   "execution_count": 20,
   "id": "7a54cae4",
   "metadata": {},
   "outputs": [
    {
     "name": "stdout",
     "output_type": "stream",
     "text": [
      "3\n",
      "2\n",
      "1\n"
     ]
    }
   ],
   "source": [
    "myList1=[1,2,3]\n",
    "def tersyazdır(myList1):\n",
    "    return [ele for ele in reversed(myList1)]\n",
    "\n",
    "for i in tersyazdır(myList1):\n",
    "    print(i)\n"
   ]
  },
  {
   "cell_type": "markdown",
   "id": "cb5bb8bd",
   "metadata": {},
   "source": [
    "### c-"
   ]
  },
  {
   "cell_type": "code",
   "execution_count": 22,
   "id": "b0f4a814",
   "metadata": {},
   "outputs": [
    {
     "name": "stdout",
     "output_type": "stream",
     "text": [
      "3\n"
     ]
    }
   ],
   "source": [
    "myList2=[1,2,3]\n",
    "def boyut(myList2):\n",
    "    a=0\n",
    "    for i in myList2:\n",
    "        a+=1\n",
    "    return a\n",
    "\n",
    "print(boyut(myList2))\n"
   ]
  },
  {
   "cell_type": "markdown",
   "id": "d9c65ca8",
   "metadata": {},
   "source": [
    "# 4.2"
   ]
  },
  {
   "cell_type": "markdown",
   "id": "d3a3535e",
   "metadata": {},
   "source": [
    "# a-\n"
   ]
  },
  {
   "cell_type": "code",
   "execution_count": 23,
   "id": "cf2512c3",
   "metadata": {},
   "outputs": [],
   "source": [
    "a=[1,2,3]"
   ]
  },
  {
   "cell_type": "markdown",
   "id": "81b3d216",
   "metadata": {},
   "source": [
    "### b-\n"
   ]
  },
  {
   "cell_type": "code",
   "execution_count": 26,
   "id": "63eaf966",
   "metadata": {},
   "outputs": [],
   "source": [
    "b=a"
   ]
  },
  {
   "cell_type": "markdown",
   "id": "0d608547",
   "metadata": {},
   "source": [
    "### c-"
   ]
  },
  {
   "cell_type": "code",
   "execution_count": 28,
   "id": "d2f73b63",
   "metadata": {},
   "outputs": [],
   "source": [
    "b=[1]"
   ]
  },
  {
   "cell_type": "markdown",
   "id": "eaf96e9f",
   "metadata": {},
   "source": [
    "### d-\n",
    "##### a is still [1,2,3]"
   ]
  },
  {
   "cell_type": "code",
   "execution_count": null,
   "id": "22e4c62e",
   "metadata": {},
   "outputs": [],
   "source": []
  },
  {
   "cell_type": "markdown",
   "id": "c0b02819",
   "metadata": {},
   "source": [
    "### e- "
   ]
  },
  {
   "cell_type": "code",
   "execution_count": 31,
   "id": "08dce417",
   "metadata": {},
   "outputs": [],
   "source": [
    "c = a[:]\n"
   ]
  },
  {
   "cell_type": "markdown",
   "id": "3c356dd7",
   "metadata": {},
   "source": [
    "### f-"
   ]
  },
  {
   "cell_type": "code",
   "execution_count": 32,
   "id": "2aaf3b34",
   "metadata": {},
   "outputs": [],
   "source": [
    "c=[2]"
   ]
  },
  {
   "cell_type": "code",
   "execution_count": 34,
   "id": "61035a72",
   "metadata": {},
   "outputs": [
    {
     "name": "stdout",
     "output_type": "stream",
     "text": [
      "[2]\n"
     ]
    }
   ],
   "source": [
    "print(c)"
   ]
  },
  {
   "cell_type": "markdown",
   "id": "23aae741",
   "metadata": {},
   "source": [
    "### g-\n",
    "##### a is still [1,2,3]"
   ]
  },
  {
   "cell_type": "code",
   "execution_count": null,
   "id": "733933d6",
   "metadata": {},
   "outputs": [],
   "source": [
    "[[], [], []]"
   ]
  },
  {
   "cell_type": "markdown",
   "id": "7a6fd7de",
   "metadata": {},
   "source": [
    "### Now create a function set_first_elem_to_zero(l) that takes a list, sets its first entry to zero, and returns the list. What happens to the original list?\n",
    "\n",
    "   #### if we add 0 to our list the elements in the list are shifted to the right by one"
   ]
  },
  {
   "cell_type": "markdown",
   "id": "6d953c0f",
   "metadata": {},
   "source": [
    "#  4.3 List of lists"
   ]
  },
  {
   "cell_type": "markdown",
   "id": "c47de5dd",
   "metadata": {},
   "source": [
    "\n",
    "### What is the difference between a and b:\n",
    "\n",
    "#### - There is not difference between a and b They are both equal = [[], [], []] "
   ]
  },
  {
   "cell_type": "code",
   "execution_count": null,
   "id": "12d608e2",
   "metadata": {},
   "outputs": [],
   "source": [
    "\n",
    "\n"
   ]
  },
  {
   "cell_type": "code",
   "execution_count": null,
   "id": "997b3ef6",
   "metadata": {},
   "outputs": [],
   "source": []
  },
  {
   "cell_type": "markdown",
   "id": "8bbbb914",
   "metadata": {},
   "source": [
    "# 4.4: Lists and functions"
   ]
  },
  {
   "cell_type": "code",
   "execution_count": 46,
   "id": "08915a9d",
   "metadata": {},
   "outputs": [
    {
     "name": "stdout",
     "output_type": "stream",
     "text": [
      "[1, 0, 3]\n"
     ]
    }
   ],
   "source": [
    "myList4=[1,2,3]\n",
    "indexValue=1\n",
    "\n",
    "def degıstır(myList4,indexValue):\n",
    "    myList4[indexValue]=0\n",
    "    return myList4\n",
    "\n",
    "print(degıstır(myList4,indexValue))"
   ]
  },
  {
   "cell_type": "markdown",
   "id": "cd257c2d",
   "metadata": {},
   "source": [
    "# 4.5: Primes\n"
   ]
  },
  {
   "cell_type": "code",
   "execution_count": 1,
   "id": "1438e033",
   "metadata": {},
   "outputs": [
    {
     "name": "stdout",
     "output_type": "stream",
     "text": [
      "[2]\n",
      "[2, 3]\n",
      "[2, 3, 5]\n",
      "[2, 3, 5, 7]\n",
      "[2, 3, 5, 7, 11]\n"
     ]
    }
   ],
   "source": [
    "def prime(x):   \n",
    "    primeList = []\n",
    "    i = 1\n",
    "    for k in range(1,x+1):\n",
    "        c = 0\n",
    "        for j in range (1,i+1):\n",
    "            a = i%j\n",
    "            if a== 0:\n",
    "                c = c+1\n",
    "        if c == 2:\n",
    "            for g in range(1):\n",
    "                primeList.append(i)\n",
    "                print(primeList)\n",
    "        else:\n",
    "            k = k-1\n",
    "        i = i+1\n",
    "        \n",
    "prime(11)"
   ]
  },
  {
   "cell_type": "code",
   "execution_count": null,
   "id": "e9213474",
   "metadata": {},
   "outputs": [],
   "source": []
  },
  {
   "cell_type": "code",
   "execution_count": null,
   "id": "d601ce89",
   "metadata": {},
   "outputs": [],
   "source": []
  },
  {
   "cell_type": "markdown",
   "id": "ae19cdb0",
   "metadata": {},
   "source": [
    "# 4.9: Finding the longest word\n"
   ]
  },
  {
   "cell_type": "code",
   "execution_count": null,
   "id": "7ec9feaf",
   "metadata": {},
   "outputs": [],
   "source": [
    "str1= \"python ile kod yazıyorum\"\n",
    "\n",
    "def longestWordLength(str1):\n",
    "    x=0\n",
    "    for i in str1.split():\n",
    "        if(len(i) > x):\n",
    "            x = len(i)\n",
    "     \n",
    "    return x"
   ]
  }
 ],
 "metadata": {
  "kernelspec": {
   "display_name": "Python 3 (ipykernel)",
   "language": "python",
   "name": "python3"
  },
  "language_info": {
   "codemirror_mode": {
    "name": "ipython",
    "version": 3
   },
   "file_extension": ".py",
   "mimetype": "text/x-python",
   "name": "python",
   "nbconvert_exporter": "python",
   "pygments_lexer": "ipython3",
   "version": "3.10.2"
  }
 },
 "nbformat": 4,
 "nbformat_minor": 5
}
